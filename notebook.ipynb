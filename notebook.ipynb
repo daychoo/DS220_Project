{
 "cells": [
  {
   "cell_type": "markdown",
   "metadata": {},
   "source": [
    "I am going to use the Consumption_of_alcohol_in_Russia_2017-2023.csv dataset acquired through Kaggle. (URL to dataset: https://www.kaggle.com/datasets/scibearia/consumption-of-alcohol-in-russia-2017-2023?resource=download)"
   ]
  },
  {
   "cell_type": "code",
   "execution_count": 20,
   "metadata": {},
   "outputs": [
    {
     "name": "stdout",
     "output_type": "stream",
     "text": [
      "Region                                                              0\n",
      "Year                                                                0\n",
      "Wine                                                                0\n",
      "Beer                                                                0\n",
      "Vodka                                                               0\n",
      "Sparkling wine                                                      0\n",
      "Brandy                                                              0\n",
      "Сider                                                               0\n",
      "Liqueurs                                                            0\n",
      "Total alcohol consumption (in liters of pure alcohol per capita)    0\n",
      "dtype: int64\n"
     ]
    }
   ],
   "source": [
    "# import required libraries in order to use queries to answer questions.\n",
    "import pandas as pd\n",
    "import matplotlib.pyplot as plt\n",
    "\n",
    "data = pd.read_csv(\"Consumption of alcoholic bevs in RUS 2017-2023.csv\")\n",
    "# print sum of NULL data per column\n",
    "print(data.isnull().sum())"
   ]
  },
  {
   "cell_type": "markdown",
   "metadata": {},
   "source": [
    "Question 1: Total alcohol consumption in liters of pure alcohol by year per capita"
   ]
  },
  {
   "cell_type": "code",
   "execution_count": 2,
   "metadata": {},
   "outputs": [
    {
     "name": "stdout",
     "output_type": "stream",
     "text": [
      "   Year  Total alcohol consumption (in liters of pure alcohol per capita)\n",
      "0  2017                                           5.803529               \n",
      "1  2018                                           6.200000               \n",
      "2  2019                                           6.168235               \n",
      "3  2020                                           6.390588               \n",
      "4  2021                                           6.481176               \n",
      "5  2022                                           6.602353               \n",
      "6  2023                                           6.790588               \n"
     ]
    }
   ],
   "source": [
    "yearly_consumption = data.groupby('Year')['Total alcohol consumption (in liters of pure alcohol per capita)'].mean().reset_index()\n",
    "\n",
    "print(yearly_consumption)"
   ]
  },
  {
   "cell_type": "markdown",
   "metadata": {},
   "source": [
    "Question 2: Region that consumed the most Wine and the year."
   ]
  },
  {
   "cell_type": "code",
   "execution_count": 5,
   "metadata": {},
   "outputs": [
    {
     "name": "stdout",
     "output_type": "stream",
     "text": [
      "                     Region  Year  Wine\n",
      "20  Nenets Autonomous Okrug  2017  8.47\n"
     ]
    }
   ],
   "source": [
    "max_wine_consumption = data['Wine'].max()\n",
    "\n",
    "max_wine = data[data['Wine'] == max_wine_consumption]\n",
    "\n",
    "print(max_wine[['Region', 'Year', 'Wine']])"
   ]
  },
  {
   "cell_type": "markdown",
   "metadata": {},
   "source": [
    "As the region and year that consumed the most wine in the dataset, we have got The Nenets Autonomous Okrug region in 2017."
   ]
  },
  {
   "cell_type": "markdown",
   "metadata": {},
   "source": [
    "Question 3: Region that consumed the most Beer and the year."
   ]
  },
  {
   "cell_type": "code",
   "execution_count": 6,
   "metadata": {},
   "outputs": [
    {
     "name": "stdout",
     "output_type": "stream",
     "text": [
      "             Region  Year    Beer\n",
      "163  Primorsky Krai  2018  116.63\n"
     ]
    }
   ],
   "source": [
    "max_beer_consumption = data['Beer'].max()\n",
    "\n",
    "max_beer = data[data['Beer'] == max_beer_consumption]\n",
    "\n",
    "print(max_beer[['Region', 'Year', 'Beer']])"
   ]
  },
  {
   "cell_type": "markdown",
   "metadata": {},
   "source": [
    "As the region and year that consumed the most beer in the dataset, we have got The Primorsky Krai region in 2018."
   ]
  },
  {
   "cell_type": "markdown",
   "metadata": {},
   "source": [
    "Question 4: Region that consumed the most Vodka and the year."
   ]
  },
  {
   "cell_type": "code",
   "execution_count": 7,
   "metadata": {},
   "outputs": [
    {
     "name": "stdout",
     "output_type": "stream",
     "text": [
      "              Region  Year  Vodka\n",
      "337  Sakhalin Oblast  2020  12.83\n"
     ]
    }
   ],
   "source": [
    "max_vodka_consumption = data['Vodka'].max()\n",
    "\n",
    "max_vodka = data[data['Vodka'] == max_vodka_consumption]\n",
    "\n",
    "print(max_vodka[['Region', 'Year', 'Vodka']])"
   ]
  },
  {
   "cell_type": "markdown",
   "metadata": {},
   "source": [
    "As the region and year that consumed the most vodka in the dataset, we have got The Sakhalin Oblast region in 2020."
   ]
  },
  {
   "cell_type": "markdown",
   "metadata": {},
   "source": [
    "Question 5: Region that consumed the most Sparkling Wine and the year."
   ]
  },
  {
   "cell_type": "code",
   "execution_count": 8,
   "metadata": {},
   "outputs": [
    {
     "name": "stdout",
     "output_type": "stream",
     "text": [
      "             Region  Year  Sparkling wine\n",
      "82  Sakhalin Oblast  2017            3.36\n"
     ]
    }
   ],
   "source": [
    "max_spark_wine_consumption = data['Sparkling wine'].max()\n",
    "\n",
    "max_spark_wine = data[data['Sparkling wine'] == max_spark_wine_consumption]\n",
    "\n",
    "print(max_spark_wine[['Region', 'Year', 'Sparkling wine']])"
   ]
  },
  {
   "cell_type": "markdown",
   "metadata": {},
   "source": [
    "As the region and year that consumed the most sparkling wine in the dataset, we have got The Sakhalin Oblast region in 2017."
   ]
  },
  {
   "cell_type": "markdown",
   "metadata": {},
   "source": [
    "Question 6: Region that consumed the most Brandy and the year."
   ]
  },
  {
   "cell_type": "code",
   "execution_count": 28,
   "metadata": {},
   "outputs": [
    {
     "name": "stdout",
     "output_type": "stream",
     "text": [
      "              Region  Year  Brandy\n",
      "194  Murmansk Oblast  2019    2.08\n"
     ]
    }
   ],
   "source": [
    "max_brandy_consumption = data['Brandy'].max()\n",
    "\n",
    "max_brandy = data[data['Brandy'] == max_brandy_consumption]\n",
    "\n",
    "print(max_brandy[['Region', 'Year', 'Brandy']])"
   ]
  },
  {
   "cell_type": "markdown",
   "metadata": {},
   "source": [
    "As the region and year that consumed the most brandy in the dataset, we have got The Murmansk Oblast region in 2019."
   ]
  },
  {
   "cell_type": "markdown",
   "metadata": {},
   "source": [
    "Question 7: Region that consumed the most Cider and the year."
   ]
  },
  {
   "cell_type": "code",
   "execution_count": 17,
   "metadata": {},
   "outputs": [
    {
     "name": "stdout",
     "output_type": "stream",
     "text": [
      "            Region  Year  Сider\n",
      "6  Kostroma Oblast  2017   2.52\n"
     ]
    }
   ],
   "source": [
    "max_cider_consumption = data['Сider'].max()\n",
    "\n",
    "max_cider = data[data['Сider'] == max_cider_consumption]\n",
    "\n",
    "print(max_cider[['Region', 'Year', 'Сider']])"
   ]
  },
  {
   "cell_type": "markdown",
   "metadata": {},
   "source": [
    "As the region and year that consumed the most cider in the dataset, we have got The Kostroma Oblast region in 2017."
   ]
  },
  {
   "cell_type": "markdown",
   "metadata": {},
   "source": [
    "Question 8: Region that consumed the most Liqueurs and the year."
   ]
  },
  {
   "cell_type": "code",
   "execution_count": 18,
   "metadata": {},
   "outputs": [
    {
     "name": "stdout",
     "output_type": "stream",
     "text": [
      "                  Region  Year  Liqueurs\n",
      "528  Republic of Karelia  2023      2.95\n"
     ]
    }
   ],
   "source": [
    "max_liqueurs_consumption = data['Liqueurs'].max()\n",
    "\n",
    "max_liqueurs = data[data['Liqueurs'] == max_liqueurs_consumption]\n",
    "\n",
    "print(max_liqueurs[['Region', 'Year', 'Liqueurs']])"
   ]
  },
  {
   "cell_type": "markdown",
   "metadata": {},
   "source": [
    "As the region and year that consumed the most liqueurs in the dataset, we have got The Republic of Karelia region in 2023."
   ]
  },
  {
   "cell_type": "markdown",
   "metadata": {},
   "source": [
    "Question 9: Region that consumed the most alcohol in pure alcohol and the year"
   ]
  },
  {
   "cell_type": "code",
   "execution_count": 19,
   "metadata": {},
   "outputs": [
    {
     "name": "stdout",
     "output_type": "stream",
     "text": [
      "                  Region  Year  \\\n",
      "273  Republic of Karelia  2020   \n",
      "\n",
      "     Total alcohol consumption (in liters of pure alcohol per capita)  \n",
      "273                                               12.4                 \n"
     ]
    }
   ],
   "source": [
    "max_alcohol_consumption = data['Total alcohol consumption (in liters of pure alcohol per capita)'].max()\n",
    "\n",
    "max_alcohol = data[data['Total alcohol consumption (in liters of pure alcohol per capita)'] == max_alcohol_consumption]\n",
    "\n",
    "print(max_alcohol[['Region', 'Year', 'Total alcohol consumption (in liters of pure alcohol per capita)']])"
   ]
  },
  {
   "cell_type": "markdown",
   "metadata": {},
   "source": [
    "As the region and year that consumed the most liqueurs in the dataset, we have got The Republic of Karelia region in 2020."
   ]
  },
  {
   "cell_type": "markdown",
   "metadata": {},
   "source": [
    "Question 10: Statistic of region that consumed the most alcohol in pure alcohol"
   ]
  },
  {
   "cell_type": "code",
   "execution_count": 27,
   "metadata": {},
   "outputs": [
    {
     "name": "stdout",
     "output_type": "stream",
     "text": [
      "                  Region  Year  Wine   Beer  Vodka  Sparkling wine  Brandy  \\\n",
      "273  Republic of Karelia  2020  7.23  89.78  11.13            1.39    1.52   \n",
      "\n",
      "     Сider  Liqueurs  \\\n",
      "273   0.92      1.49   \n",
      "\n",
      "     Total alcohol consumption (in liters of pure alcohol per capita)  \n",
      "273                                               12.4                 \n"
     ]
    }
   ],
   "source": [
    "test = data.groupby('Region')['Total alcohol consumption (in liters of pure alcohol per capita)'].max()\n",
    "max = test.max()\n",
    "max_data = data[data['Total alcohol consumption (in liters of pure alcohol per capita)'] == max]\n",
    "print(max_data)"
   ]
  },
  {
   "cell_type": "markdown",
   "metadata": {},
   "source": [
    "The statistic for the region that consumed the most alcohol in pure alcohol is:\n"
   ]
  },
  {
   "cell_type": "markdown",
   "metadata": {},
   "source": [
    "Region: Republic of Karelia"
   ]
  },
  {
   "cell_type": "markdown",
   "metadata": {},
   "source": [
    "Year: 2020"
   ]
  },
  {
   "cell_type": "markdown",
   "metadata": {},
   "source": [
    "Wine: 7.23"
   ]
  },
  {
   "cell_type": "markdown",
   "metadata": {},
   "source": [
    "Beer: 89.78"
   ]
  },
  {
   "cell_type": "markdown",
   "metadata": {},
   "source": [
    "Vodka: 11.13"
   ]
  },
  {
   "cell_type": "markdown",
   "metadata": {},
   "source": [
    "Sparkling Wine: 1.39"
   ]
  },
  {
   "cell_type": "markdown",
   "metadata": {},
   "source": [
    "Brandy: 1.52"
   ]
  },
  {
   "cell_type": "markdown",
   "metadata": {},
   "source": [
    "Cider: 0.92"
   ]
  },
  {
   "cell_type": "markdown",
   "metadata": {},
   "source": [
    "Liqueurs: 1.49"
   ]
  },
  {
   "cell_type": "markdown",
   "metadata": {},
   "source": [
    "Total Alcohol Consumption: 12.4"
   ]
  }
 ],
 "metadata": {
  "kernelspec": {
   "display_name": "Python 3",
   "language": "python",
   "name": "python3"
  },
  "language_info": {
   "codemirror_mode": {
    "name": "ipython",
    "version": 3
   },
   "file_extension": ".py",
   "mimetype": "text/x-python",
   "name": "python",
   "nbconvert_exporter": "python",
   "pygments_lexer": "ipython3",
   "version": "3.12.1"
  }
 },
 "nbformat": 4,
 "nbformat_minor": 2
}
